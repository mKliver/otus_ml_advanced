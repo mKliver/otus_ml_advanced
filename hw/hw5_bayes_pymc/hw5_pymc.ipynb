{
  "nbformat": 4,
  "nbformat_minor": 0,
  "metadata": {
    "colab": {
      "provenance": []
    },
    "kernelspec": {
      "name": "python3",
      "display_name": "Python 3"
    },
    "language_info": {
      "name": "python"
    },
    "widgets": {
      "application/vnd.jupyter.widget-state+json": {
        "f8b3d9ddc62a4759a029aa0521994466": {
          "model_module": "@jupyter-widgets/output",
          "model_name": "OutputModel",
          "model_module_version": "1.0.0",
          "state": {
            "_dom_classes": [],
            "_model_module": "@jupyter-widgets/output",
            "_model_module_version": "1.0.0",
            "_model_name": "OutputModel",
            "_view_count": null,
            "_view_module": "@jupyter-widgets/output",
            "_view_module_version": "1.0.0",
            "_view_name": "OutputView",
            "layout": "IPY_MODEL_123a5d52588a4b7fb02ad9b86c7be034",
            "msg_id": "",
            "outputs": [
              {
                "output_type": "display_data",
                "data": {
                  "text/plain": "                                                                                                                   \n \u001b[1m \u001b[0m\u001b[1mProgress                \u001b[0m\u001b[1m \u001b[0m \u001b[1m \u001b[0m\u001b[1mDraws\u001b[0m\u001b[1m \u001b[0m \u001b[1m \u001b[0m\u001b[1mDivergences\u001b[0m\u001b[1m \u001b[0m \u001b[1m \u001b[0m\u001b[1mStep size\u001b[0m\u001b[1m \u001b[0m \u001b[1m \u001b[0m\u001b[1mGrad evals\u001b[0m\u001b[1m \u001b[0m \u001b[1m \u001b[0m\u001b[1mSampling Speed \u001b[0m\u001b[1m \u001b[0m \u001b[1m \u001b[0m\u001b[1mElapsed\u001b[0m\u001b[1m \u001b[0m \u001b[1m \u001b[0m\u001b[1mRemaining\u001b[0m\u001b[1m \u001b[0m \n ───────────────────────────────────────────────────────────────────────────────────────────────────────────────── \n  \u001b[38;2;31;119;180m━━━━━━━━━━━━━━━━━━━━━━━━\u001b[0m   2500    0             1.15        1            3231.71 draws/s   0:00:00   0:00:00    \n                                                                                                                   \n",
                  "text/html": "<pre style=\"white-space:pre;overflow-x:auto;line-height:normal;font-family:Menlo,'DejaVu Sans Mono',consolas,'Courier New',monospace\">                                                                                                                   \n <span style=\"font-weight: bold\"> Progress                 </span> <span style=\"font-weight: bold\"> Draws </span> <span style=\"font-weight: bold\"> Divergences </span> <span style=\"font-weight: bold\"> Step size </span> <span style=\"font-weight: bold\"> Grad evals </span> <span style=\"font-weight: bold\"> Sampling Speed  </span> <span style=\"font-weight: bold\"> Elapsed </span> <span style=\"font-weight: bold\"> Remaining </span> \n ───────────────────────────────────────────────────────────────────────────────────────────────────────────────── \n  <span style=\"color: #1f77b4; text-decoration-color: #1f77b4\">━━━━━━━━━━━━━━━━━━━━━━━━</span>   2500    0             1.15        1            3231.71 draws/s   0:00:00   0:00:00    \n                                                                                                                   \n</pre>\n"
                },
                "metadata": {}
              }
            ]
          }
        },
        "123a5d52588a4b7fb02ad9b86c7be034": {
          "model_module": "@jupyter-widgets/base",
          "model_name": "LayoutModel",
          "model_module_version": "1.2.0",
          "state": {
            "_model_module": "@jupyter-widgets/base",
            "_model_module_version": "1.2.0",
            "_model_name": "LayoutModel",
            "_view_count": null,
            "_view_module": "@jupyter-widgets/base",
            "_view_module_version": "1.2.0",
            "_view_name": "LayoutView",
            "align_content": null,
            "align_items": null,
            "align_self": null,
            "border": null,
            "bottom": null,
            "display": null,
            "flex": null,
            "flex_flow": null,
            "grid_area": null,
            "grid_auto_columns": null,
            "grid_auto_flow": null,
            "grid_auto_rows": null,
            "grid_column": null,
            "grid_gap": null,
            "grid_row": null,
            "grid_template_areas": null,
            "grid_template_columns": null,
            "grid_template_rows": null,
            "height": null,
            "justify_content": null,
            "justify_items": null,
            "left": null,
            "margin": null,
            "max_height": null,
            "max_width": null,
            "min_height": null,
            "min_width": null,
            "object_fit": null,
            "object_position": null,
            "order": null,
            "overflow": null,
            "overflow_x": null,
            "overflow_y": null,
            "padding": null,
            "right": null,
            "top": null,
            "visibility": null,
            "width": null
          }
        },
        "7a212ee7ae7749a889760e6e4684a88a": {
          "model_module": "@jupyter-widgets/output",
          "model_name": "OutputModel",
          "model_module_version": "1.0.0",
          "state": {
            "_dom_classes": [],
            "_model_module": "@jupyter-widgets/output",
            "_model_module_version": "1.0.0",
            "_model_name": "OutputModel",
            "_view_count": null,
            "_view_module": "@jupyter-widgets/output",
            "_view_module_version": "1.0.0",
            "_view_name": "OutputView",
            "layout": "IPY_MODEL_ab105bb396e74d53a5f70c3e25ca2e77",
            "msg_id": "",
            "outputs": [
              {
                "output_type": "display_data",
                "data": {
                  "text/plain": "Sampling ... \u001b[32m━━━━━━━━━━━━━━━━━━━━━━━━━━━━━━━━━━━━━━━━\u001b[0m \u001b[35m100%\u001b[0m 0:00:00 / 0:00:00\n",
                  "text/html": "<pre style=\"white-space:pre;overflow-x:auto;line-height:normal;font-family:Menlo,'DejaVu Sans Mono',consolas,'Courier New',monospace\">Sampling ... <span style=\"color: #008000; text-decoration-color: #008000\">━━━━━━━━━━━━━━━━━━━━━━━━━━━━━━━━━━━━━━━━</span> <span style=\"color: #800080; text-decoration-color: #800080\">100%</span> 0:00:00 / 0:00:00\n</pre>\n"
                },
                "metadata": {}
              }
            ]
          }
        },
        "ab105bb396e74d53a5f70c3e25ca2e77": {
          "model_module": "@jupyter-widgets/base",
          "model_name": "LayoutModel",
          "model_module_version": "1.2.0",
          "state": {
            "_model_module": "@jupyter-widgets/base",
            "_model_module_version": "1.2.0",
            "_model_name": "LayoutModel",
            "_view_count": null,
            "_view_module": "@jupyter-widgets/base",
            "_view_module_version": "1.2.0",
            "_view_name": "LayoutView",
            "align_content": null,
            "align_items": null,
            "align_self": null,
            "border": null,
            "bottom": null,
            "display": null,
            "flex": null,
            "flex_flow": null,
            "grid_area": null,
            "grid_auto_columns": null,
            "grid_auto_flow": null,
            "grid_auto_rows": null,
            "grid_column": null,
            "grid_gap": null,
            "grid_row": null,
            "grid_template_areas": null,
            "grid_template_columns": null,
            "grid_template_rows": null,
            "height": null,
            "justify_content": null,
            "justify_items": null,
            "left": null,
            "margin": null,
            "max_height": null,
            "max_width": null,
            "min_height": null,
            "min_width": null,
            "object_fit": null,
            "object_position": null,
            "order": null,
            "overflow": null,
            "overflow_x": null,
            "overflow_y": null,
            "padding": null,
            "right": null,
            "top": null,
            "visibility": null,
            "width": null
          }
        }
      }
    }
  },
  "cells": [
    {
      "cell_type": "markdown",
      "source": [
        "## Домашнаяя работа 5: Постройте posterior predictive distribution для эксперимента с подбрасываем монеты\n",
        "\n",
        "### Описание задачи\n",
        "Мы можем использовать апостериорное прогнозируемое распределение для предсказания того, что произойдет, если мы снова подбросим ту же монету.\n",
        "\n",
        "Используйте sample_posterior_predictive для генерации выборки k, а затем используйте sns.hist для построения графика апостериорного предсказательного распределения."
      ],
      "metadata": {
        "id": "1DLVMpU28BQV"
      }
    },
    {
      "cell_type": "markdown",
      "source": [
        "Хоть в условиях задачи и сказано, что нужно использовать библиотеку pymc3, но так как эта вервия библиотеки устаревшая, и есть сложности с ее установкой в colab и на домашний компьютер, будем использовать более новую версию - pymc."
      ],
      "metadata": {
        "id": "LZkJYdNxiT0R"
      }
    },
    {
      "cell_type": "markdown",
      "source": [
        "### Решение"
      ],
      "metadata": {
        "id": "LG5tY8cK8Wkk"
      }
    },
    {
      "cell_type": "code",
      "execution_count": 1,
      "metadata": {
        "id": "gUrO8RNB73xh"
      },
      "outputs": [],
      "source": [
        "import numpy as np\n",
        "import pymc as pm\n",
        "import seaborn as sns\n",
        "import matplotlib.pyplot as plt\n",
        "import arviz as az"
      ]
    },
    {
      "cell_type": "code",
      "source": [
        "print(f\"Running on PyMC v{pm.__version__}\")"
      ],
      "metadata": {
        "colab": {
          "base_uri": "https://localhost:8080/"
        },
        "id": "2eGFBPyHUTPX",
        "outputId": "a649a940-3464-4186-f25e-60f0c12d56a9"
      },
      "execution_count": 2,
      "outputs": [
        {
          "output_type": "stream",
          "name": "stdout",
          "text": [
            "Running on PyMC v5.20.1\n"
          ]
        }
      ]
    },
    {
      "cell_type": "markdown",
      "source": [
        "Допустим подбросили монетку 1000 раз. И 550 раз выпал орел. Исходя из этого сгенерируем массив с данными."
      ],
      "metadata": {
        "id": "qxthQINlFLCX"
      }
    },
    {
      "cell_type": "code",
      "source": [
        "RANDOM_SEED = 42\n",
        "n_trials = 1000\n",
        "n_heads = 550\n",
        "data = np.concatenate([np.ones(n_heads), np.zeros(n_trials - n_heads)])"
      ],
      "metadata": {
        "id": "haQ_A3MxFGLX"
      },
      "execution_count": 25,
      "outputs": []
    },
    {
      "cell_type": "markdown",
      "source": [
        "Построим модель. Для монеты будем использовать биноминальное распределение."
      ],
      "metadata": {
        "id": "dQcdodQLFmXP"
      }
    },
    {
      "cell_type": "code",
      "source": [
        "with pm.Model() as model:\n",
        "    p = pm.Beta('p', alpha=1, beta=1)\n",
        "    likelihood = pm.Bernoulli('y', p=p, observed=data)\n",
        "    trace = pm.sample(2000,\n",
        "                      tune=500,\n",
        "                      chains=1,\n",
        "                      return_inferencedata=False,\n",
        "                      random_seed=RANDOM_SEED)#2000 экспериментов, прогрем 500"
      ],
      "metadata": {
        "colab": {
          "base_uri": "https://localhost:8080/",
          "height": 99,
          "referenced_widgets": [
            "f8b3d9ddc62a4759a029aa0521994466",
            "123a5d52588a4b7fb02ad9b86c7be034"
          ]
        },
        "id": "gezhfK5GFez4",
        "outputId": "65c77df6-9a7f-4aa3-e533-8b86c7ad1c2e"
      },
      "execution_count": 26,
      "outputs": [
        {
          "output_type": "display_data",
          "data": {
            "text/plain": [
              "Output()"
            ],
            "application/vnd.jupyter.widget-view+json": {
              "version_major": 2,
              "version_minor": 0,
              "model_id": "f8b3d9ddc62a4759a029aa0521994466"
            }
          },
          "metadata": {}
        },
        {
          "output_type": "display_data",
          "data": {
            "text/plain": [],
            "text/html": [
              "<pre style=\"white-space:pre;overflow-x:auto;line-height:normal;font-family:Menlo,'DejaVu Sans Mono',consolas,'Courier New',monospace\"></pre>\n"
            ]
          },
          "metadata": {}
        }
      ]
    },
    {
      "cell_type": "markdown",
      "source": [
        "Предсказание:"
      ],
      "metadata": {
        "id": "np2brmbzIAjw"
      }
    },
    {
      "cell_type": "code",
      "source": [
        "posterior_predictive = pm.sample_posterior_predictive(trace,\n",
        "                                                      model,\n",
        "                                                      #var_names=[\"y\"],\n",
        "                                                      random_seed=RANDOM_SEED)"
      ],
      "metadata": {
        "colab": {
          "base_uri": "https://localhost:8080/",
          "height": 33,
          "referenced_widgets": [
            "7a212ee7ae7749a889760e6e4684a88a",
            "ab105bb396e74d53a5f70c3e25ca2e77"
          ]
        },
        "id": "PZpE8E22GxnB",
        "outputId": "02fc801a-c93a-4a7e-a396-6ca83a3c3728"
      },
      "execution_count": 27,
      "outputs": [
        {
          "output_type": "display_data",
          "data": {
            "text/plain": [
              "Output()"
            ],
            "application/vnd.jupyter.widget-view+json": {
              "version_major": 2,
              "version_minor": 0,
              "model_id": "7a212ee7ae7749a889760e6e4684a88a"
            }
          },
          "metadata": {}
        },
        {
          "output_type": "display_data",
          "data": {
            "text/plain": [],
            "text/html": [
              "<pre style=\"white-space:pre;overflow-x:auto;line-height:normal;font-family:Menlo,'DejaVu Sans Mono',consolas,'Courier New',monospace\"></pre>\n"
            ]
          },
          "metadata": {}
        }
      ]
    },
    {
      "cell_type": "code",
      "source": [
        "\n",
        "# Построение гистограммы\n",
        "sns.histplot(np.mean(posterior_predictive[\"posterior_predictive\"][\"y\"][0], axis=1),\n",
        "             kde=True,\n",
        "             bins=30,\n",
        "             legend=False)\n",
        "plt.xlabel('Количество орлов в 1000 подбрасываниях')\n",
        "plt.ylabel('Частота')\n",
        "plt.title('Posterior Predictive Distribution')\n",
        "plt.show()"
      ],
      "metadata": {
        "colab": {
          "base_uri": "https://localhost:8080/",
          "height": 472
        },
        "id": "wC_oKUioIMjS",
        "outputId": "2530f3d3-b62b-4241-a84d-0c93ba1a9d3c"
      },
      "execution_count": 29,
      "outputs": [
        {
          "output_type": "display_data",
          "data": {
            "text/plain": [
              "<Figure size 640x480 with 1 Axes>"
            ],
            "image/png": "[encoded data removed]"
          },
          "metadata": {}
        }
      ]
    },
    {
      "cell_type": "markdown",
      "source": [
        "### Вывод\n",
        "Полученный график распределения вышел не очень красивым, вероятно нужно более количество испытаний. Но пик распределения приходится на 0.55, как мы и задачи в исходных данных. Так что модель отработала верно."
      ],
      "metadata": {
        "id": "Jx1jOXknGdhL"
      }
    }
  ]
}